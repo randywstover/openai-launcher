{
 "cells": [
  {
   "cell_type": "markdown",
   "metadata": {},
   "source": [
    "# CLIP Image Search\n",
    "Search and rank a folder of images using a text prompt."
   ]
  },
  {
   "cell_type": "code",
   "execution_count": null,
   "metadata": {},
   "outputs": [],
   "source": [
    "!pip install ftfy regex tqdm\n",
    "!pip install git+https://github.com/openai/CLIP.git\n",
    "!pip install torchvision"
   ]
  },
  {
   "cell_type": "code",
   "execution_count": null,
   "metadata": {},
   "outputs": [],
   "source": [
    "import os\n",
    "import clip\n",
    "import torch\n",
    "from PIL import Image\n",
    "import IPython.display as display"
   ]
  },
  {
   "cell_type": "code",
   "execution_count": null,
   "metadata": {},
   "outputs": [],
   "source": [
    "# Load the model\n",
    "device = \"cuda\" if torch.cuda.is_available() else \"cpu\"\n",
    "model, preprocess = clip.load(\"ViT-B/32\", device=device)"
   ]
  },
  {
   "cell_type": "code",
   "execution_count": null,
   "metadata": {},
   "outputs": [],
   "source": [
    "# Upload images\n",
    "from google.colab import files\n",
    "uploaded = files.upload()\n",
    "image_filenames = list(uploaded.keys())"
   ]
  },
  {
   "cell_type": "code",
   "execution_count": null,
   "metadata": {},
   "outputs": [],
   "source": [
    "# Encode images\n",
    "images = []\n",
    "image_inputs = []\n",
    "for filename in image_filenames:\n",
    "    image = preprocess(Image.open(filename)).unsqueeze(0).to(device)\n",
    "    images.append(filename)\n",
    "    image_inputs.append(image)\n",
    "\n",
    "image_input = torch.cat(image_inputs, dim=0)\n",
    "with torch.no_grad():\n",
    "    image_features = model.encode_image(image_input)"
   ]
  },
  {
   "cell_type": "code",
   "execution_count": null,
   "metadata": {},
   "outputs": [],
   "source": [
    "# Search\n",
    "query = input(\"Enter a text description: \")\n",
    "text_input = clip.tokenize([query]).to(device)\n",
    "with torch.no_grad():\n",
    "    text_features = model.encode_text(text_input)\n",
    "\n",
    "similarity = (text_features @ image_features.T).squeeze(0)\n",
    "values, indices = similarity.topk(5)\n",
    "\n",
    "print(\"\\nTop Matches:\")\n",
    "for i in indices:\n",
    "    display.display(Image.open(images[i]))\n",
    "    print(f\"Image: {images[i]} | Score: {similarity[i].item():.2f}\")"
   ]
  }
 ],
 "metadata": {
  "kernelspec": {
   "display_name": "Python 3",
   "language": "python",
   "name": "python3"
  },
  "language_info": {
   "name": "python"
  }
 },
 "nbformat": 4,
 "nbformat_minor": 4
}
