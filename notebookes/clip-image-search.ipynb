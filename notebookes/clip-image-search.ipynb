{
 "cells": [
  {
   "cell_type": "markdown",
   "metadata": {},
   "source": [
    "# 🔍 CLIP Image Search\n",
    "\n",
    "Search through images using natural language with OpenAI's CLIP model. This notebook runs in Colab's free tier and requires no API key.\n",
    "\n",
    "## Model Information\n",
    "CLIP (Contrastive Language-Image Pre-training) excels at zero-shot image search and classification. For even better results, you can:\n",
    "\n",
    "1. **Fine-tune CLIP on your dataset**:\n",
    "   - Visit [CLIP Fine-tuning Guide](https://huggingface.co/docs/transformers/main/en/model_doc/clip#training) on Hugging Face\n",
    "   - Customize the model for your specific domain\n",
    "   - Improve accuracy for specialized tasks\n",
    "\n",
    "2. **Use domain-specific CLIP variants**:\n",
    "   - [OpenCLIP](https://github.com/mlfoundations/open_clip): Open-source CLIP trained on larger datasets\n",
    "   - [DomainCLIP](https://github.com/alibaba/EasyNLP/tree/master/examples/clip): Specialized for e-commerce\n",
    "   - [MultiCLIP](https://github.com/OpenGVLab/Multi-Modality-Arena): Enhanced multilingual support\n",
    "\n",
    "## Features\n",
    "- Natural language image search\n",
    "- Support for custom image datasets\n",
    "- Real-time search results\n",
    "- Adjustable similarity threshold\n",
    "\n",
    "## Setup\n",
    "First, let's install the required packages:"
   ]
  },
  {
   "cell_type": "code",
   "execution_count": null,
   "metadata": {},
   "outputs": [],
   "source": [
    "!pip install -q torch torchvision ftfy regex tqdm gradio Pillow open_clip_torch"
   ]
  },
  {
   "cell_type": "markdown",
   "metadata": {},
   "source": [
    "## Import Dependencies"
   ]
  },
  {
   "cell_type": "code",
   "execution_count": null,
   "metadata": {},
   "outputs": [],
   "source": [
    "import torch\n",
    "import clip\n",
    "import open_clip\n",
    "from PIL import Image\n",
    "import gradio as gr\n",
    "import os\n",
    "from torchvision.datasets import CIFAR100\n",
    "from torchvision.transforms import Compose, Resize, CenterCrop, ToTensor, Normalize\n",
    "import numpy as np"
   ]
  },
  {
   "cell_type": "markdown",
   "metadata": {},
   "source": [
    "## Load Model"
   ]
  },
  {
   "cell_type": "code",
   "execution_count": null,
   "metadata": {},
   "outputs": [],
   "source": [
    "# Available CLIP variants\n",
    "MODELS = {\n",
    "    \"CLIP (ViT-B/32)\": {\"type\": \"clip\", \"name\": \"ViT-B/32\"},\n",
    "    \"OpenCLIP (ViT-B-32)\": {\"type\": \"open_clip\", \"name\": \"ViT-B-32\", \"pretrained\": \"laion2b_s34b_b79k\"},\n",
    "    \"OpenCLIP (ViT-L-14)\": {\"type\": \"open_clip\", \"name\": \"ViT-L-14\", \"pretrained\": \"laion2b_s32b_b82k\"}\n",
    "}\n",
    "\n",
    "def load_model(model_choice=\"CLIP (ViT-B/32)\"):\n",
    "    model_config = MODELS[model_choice]\n",
    "    \n",
    "    if model_config[\"type\"] == \"clip\":\n",
    "        model, preprocess = clip.load(model_config[\"name\"], device=device)\n",
    "    else:\n",
    "        model, _, preprocess = open_clip.create_model_and_transforms(\n",
    "            model_config[\"name\"],\n",
    "            pretrained=model_config[\"pretrained\"]\n",
    "        )\n",
    "        model = model.to(device)\n",
    "    \n",
    "    return model, preprocess\n",
    "\n",
    "# Initialize with default model\n",
    "device = \"cuda\" if torch.cuda.is_available() else \"cpu\"\n",
    "model, preprocess = load_model()\n",
    "\n",
    "print(f\"Model loaded on: {device}\")"
   ]
  },
  {
   "cell_type": "markdown",
   "metadata": {},
   "source": [
    "## Load Sample Dataset\n",
    "We'll use CIFAR100 as a sample dataset, but you can replace this with your own images."
   ]
  },
  {
   "cell_type": "code",
   "execution_count": null,
   "metadata": {},
   "outputs": [],
   "source": [
    "# Load CIFAR100 dataset\n",
    "dataset = CIFAR100(root=os.path.expanduser(\"~/.cache\"), download=True, train=False)\n",
    "\n",
    "# Preprocess images and compute features\n",
    "image_features = []\n",
    "processed_images = []\n",
    "\n",
    "for image, _ in dataset:\n",
    "    # Convert PIL image to RGB\n",
    "    image = image.convert('RGB')\n",
    "    processed_images.append(image)\n",
    "    \n",
    "    # Preprocess and compute features\n",
    "    image_input = preprocess(image).unsqueeze(0).to(device)\n",
    "    with torch.no_grad():\n",
    "        features = model.encode_image(image_input)\n",
    "    \n",
    "    image_features.append(features)\n",
    "\n",
    "# Stack all features\n",
    "image_features = torch.cat(image_features).cpu().numpy()\n",
    "\n",
    "print(f\"Loaded {len(processed_images)} images\")"
   ]
  },
  {
   "cell_type": "markdown",
   "metadata": {},
   "source": [
    "## Create Search Function"
   ]
  },
  {
   "cell_type": "code",
   "execution_count": null,
   "metadata": {},
   "outputs": [],
   "source": [
    "def search_images(query, model_choice=\"CLIP (ViT-B/32)\", num_results=9, similarity_threshold=0.2):\n",
    "    global model, preprocess\n",
    "    \n",
    "    # Load selected model if different from current\n",
    "    if model_choice != current_model:\n",
    "        model, preprocess = load_model(model_choice)\n",
    "    \n",
    "    # Encode text query\n",
    "    with torch.no_grad():\n",
    "        text_features = model.encode_text(clip.tokenize([query]).to(device))\n",
    "    text_features = text_features.cpu().numpy()\n",
    "    \n",
    "    # Calculate similarities\n",
    "    similarities = (image_features @ text_features.T).squeeze(1)\n",
    "    \n",
    "    # Get top matches above threshold\n",
    "    valid_matches = similarities > similarity_threshold\n",
    "    if not valid_matches.any():\n",
    "        return None\n",
    "    \n",
    "    best_photo_idx = (-similarities).argsort()[:num_results]\n",
    "    \n",
    "    # Return matching images\n",
    "    return [processed_images[i] for i in best_photo_idx if similarities[i] > similarity_threshold]"
   ]
  },
  {
   "cell_type": "markdown",
   "metadata": {},
   "source": [
    "## Create Gradio Interface"
   ]
  },
  {
   "cell_type": "code",
   "execution_count": null,
   "metadata": {},
   "outputs": [],
   "source": [
    "def gradio_search(query, model_choice, similarity_threshold):\n",
    "    results = search_images(query, model_choice, similarity_threshold=similarity_threshold)\n",
    "    if results is None:\n",
    "        return [None] * 9  # Return empty grid if no results\n",
    "    \n",
    "    # Pad results to fill grid\n",
    "    while len(results) < 9:\n",
    "        results.append(None)\n",
    "    \n",
    "    return results\n",
    "\n",
    "interface = gr.Interface(\n",
    "    fn=gradio_search,\n",
    "    inputs=[\n",
    "        gr.Textbox(\n",
    "            label=\"Search Query\",\n",
    "            placeholder=\"Describe what you're looking for...\"\n",
    "        ),\n",
    "        gr.Dropdown(\n",
    "            choices=list(MODELS.keys()),\n",
    "            value=\"CLIP (ViT-B/32)\",\n",
    "            label=\"Model\",\n",
    "            info=\"Choose between different CLIP variants\"\n",
    "        ),\n",
    "        gr.Slider(\n",
    "            minimum=0.1,\n",
    "            maximum=0.9,\n",
    "            value=0.2,\n",
    "            step=0.1,\n",
    "            label=\"Similarity Threshold\",\n",
    "            info=\"Higher values = stricter matching\"\n",
    "        )\n",
    "    ],\n",
    "    outputs=[\n",
    "        gr.Image(label=\"Result 1\"),\n",
    "        gr.Image(label=\"Result 2\"),\n",
    "        gr.Image(label=\"Result 3\"),\n",
    "        gr.Image(label=\"Result 4\"),\n",
    "        gr.Image(label=\"Result 5\"),\n",
    "        gr.Image(label=\"Result 6\"),\n",
    "        gr.Image(label=\"Result 7\"),\n",
    "        gr.Image(label=\"Result 8\"),\n",
    "        gr.Image(label=\"Result 9\")\n",
    "    ],\n",
    "    title=\"CLIP Image Search\",\n",
    "    description=\"Search through images using natural language descriptions. Choose between different CLIP variants for optimal results.\",\n",
    "    examples=[\n",
    "        [\"a photo of a dog\", \"CLIP (ViT-B/32)\", 0.2],\n",
    "        [\"beautiful landscape with mountains\", \"OpenCLIP (ViT-L-14)\", 0.2],\n",
    "        [\"red flowers in a garden\", \"OpenCLIP (ViT-B-32)\", 0.2]\n",
    "    ]\n",
    ")\n",
    "\n",
    "interface.launch(share=True)"
   ]
  }
 ],
 "metadata": {
  "accelerator": "GPU",
  "colab": {
   "name": "CLIP Image Search",
   "provenance": []
  },
  "kernelspec": {
   "display_name": "Python 3",
   "name": "python3"
  },
  "language_info": {
   "name": "python"
  }
 },
 "nbformat": 4,
 "nbformat_minor": 0
}
