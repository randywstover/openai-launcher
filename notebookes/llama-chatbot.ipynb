{
 "cells": [
  {
   "cell_type": "markdown",
   "metadata": {},
   "source": [
    "# 💬 LLaMA Chatbot Interface\n",
    "\n",
    "Chat with Meta's LLaMA large language model using a simple interface. This notebook runs in Colab's free tier and requires no API key.\n",
    "\n",
    "## Model Information\n",
    "This notebook uses LLaMA 2 7B by default. For different performance profiles, you can use these alternatives:\n",
    "\n",
    "- **TheBloke/Llama-2-7B-Chat-GGML**: Optimized for CPU inference\n",
    "- **TheBloke/Llama-2-7B-Chat-GPTQ**: 4-bit quantized for GPU efficiency\n",
    "- **TheBloke/Llama-2-7B-Chat-AWQ**: Alternative quantization method\n",
    "\n",
    "To use these models, simply change the `model_name` variable below.\n",
    "\n",
    "## Features\n",
    "- Interactive chat interface\n",
    "- Memory of conversation history\n",
    "- Adjustable generation parameters\n",
    "- Multiple model options\n",
    "\n",
    "## Setup\n",
    "First, let's install the required packages:"
   ]
  },
  {
   "cell_type": "code",
   "execution_count": null,
   "metadata": {},
   "outputs": [],
   "source": [
    "!pip install -q transformers accelerate gradio torch sentencepiece auto-gptq optimum"
   ]
  },
  {
   "cell_type": "markdown",
   "metadata": {},
   "source": [
    "## Import Dependencies"
   ]
  },
  {
   "cell_type": "code",
   "execution_count": null,
   "metadata": {},
   "outputs": [],
   "source": [
    "import torch\n",
    "from transformers import AutoTokenizer, AutoModelForCausalLM, BitsAndBytesConfig\n",
    "import gradio as gr"
   ]
  },
  {
   "cell_type": "markdown",
   "metadata": {},
   "source": [
    "## Load Model and Tokenizer"
   ]
  },
  {
   "cell_type": "code",
   "execution_count": null,
   "metadata": {},
   "outputs": [],
   "source": [
    "def load_model(model_name, quantization=\"none\"):\n",
    "    tokenizer = AutoTokenizer.from_pretrained(model_name)\n",
    "    \n",
    "    if quantization == \"4bit\":\n",
    "        quantization_config = BitsAndBytesConfig(\n",
    "            load_in_4bit=True,\n",
    "            bnb_4bit_compute_dtype=torch.float16\n",
    "        )\n",
    "        model = AutoModelForCausalLM.from_pretrained(\n",
    "            model_name,\n",
    "            quantization_config=quantization_config,\n",
    "            device_map=\"auto\"\n",
    "        )\n",
    "    else:\n",
    "        model = AutoModelForCausalLM.from_pretrained(\n",
    "            model_name,\n",
    "            torch_dtype=torch.float16,\n",
    "            device_map=\"auto\"\n",
    "        )\n",
    "    \n",
    "    return tokenizer, model\n",
    "\n",
    "# Load default model\n",
    "model_name = \"meta-llama/Llama-2-7b-chat-hf\"\n",
    "tokenizer, model = load_model(model_name)\n",
    "\n",
    "print(f\"Model loaded on: {'GPU' if torch.cuda.is_available() else 'CPU'}\")"
   ]
  },
  {
   "cell_type": "markdown",
   "metadata": {},
   "source": [
    "## Create Chat Function"
   ]
  },
  {
   "cell_type": "code",
   "execution_count": null,
   "metadata": {},
   "outputs": [],
   "source": [
    "def format_chat_prompt(message, chat_history):\n",
    "    prompt = \"<s>[INST] \"\n",
    "    \n",
    "    # Add chat history\n",
    "    for user_msg, assistant_msg in chat_history:\n",
    "        prompt += f\"{user_msg} [/INST] {assistant_msg} </s><s>[INST] \"\n",
    "    \n",
    "    # Add current message\n",
    "    prompt += f\"{message} [/INST]\"\n",
    "    return prompt\n",
    "\n",
    "def chat(message, chat_history, temperature=0.7, max_length=2048, top_p=0.9, repetition_penalty=1.1):\n",
    "    # Format prompt with chat history\n",
    "    prompt = format_chat_prompt(message, chat_history)\n",
    "    \n",
    "    # Tokenize input\n",
    "    inputs = tokenizer(prompt, return_tensors=\"pt\").to(model.device)\n",
    "    \n",
    "    # Generate response\n",
    "    outputs = model.generate(\n",
    "        inputs[\"input_ids\"],\n",
    "        max_length=max_length,\n",
    "        temperature=temperature,\n",
    "        top_p=top_p,\n",
    "        repetition_penalty=repetition_penalty,\n",
    "        do_sample=True,\n",
    "        pad_token_id=tokenizer.eos_token_id\n",
    "    )\n",
    "    \n",
    "    # Decode and extract response\n",
    "    response = tokenizer.decode(outputs[0], skip_special_tokens=True)\n",
    "    response = response.split(\"[/INST]\")[-1].strip()\n",
    "    \n",
    "    chat_history.append((message, response))\n",
    "    return \"\", chat_history"
   ]
  },
  {
   "cell_type": "markdown",
   "metadata": {},
   "source": [
    "## Create Gradio Interface"
   ]
  },
  {
   "cell_type": "code",
   "execution_count": null,
   "metadata": {},
   "outputs": [],
   "source": [
    "interface = gr.ChatInterface(\n",
    "    fn=chat,\n",
    "    additional_inputs=[\n",
    "        gr.Slider(\n",
    "            minimum=0.1,\n",
    "            maximum=2.0,\n",
    "            value=0.7,\n",
    "            step=0.1,\n",
    "            label=\"Temperature\",\n",
    "            info=\"Higher values make output more random\"\n",
    "        ),\n",
    "        gr.Slider(\n",
    "            minimum=256,\n",
    "            maximum=4096,\n",
    "            value=2048,\n",
    "            step=256,\n",
    "            label=\"Max Length\",\n",
    "            info=\"Maximum length of generated response\"\n",
    "        ),\n",
    "        gr.Slider(\n",
    "            minimum=0.1,\n",
    "            maximum=1.0,\n",
    "            value=0.9,\n",
    "            step=0.1,\n",
    "            label=\"Top P\",\n",
    "            info=\"Nucleus sampling threshold\"\n",
    "        ),\n",
    "        gr.Slider(\n",
    "            minimum=1.0,\n",
    "            maximum=2.0,\n",
    "            value=1.1,\n",
    "            step=0.1,\n",
    "            label=\"Repetition Penalty\",\n",
    "            info=\"Higher values reduce repetition\"\n",
    "        )\n",
    "    ],\n",
    "    title=\"LLaMA Chatbot\",\n",
    "    description=\"Chat with Meta's LLaMA language model. The model maintains conversation history for context.\",\n",
    "    examples=[\n",
    "        [\"Tell me about the history of artificial intelligence.\"],\n",
    "        [\"What are some good practices for writing clean code?\"],\n",
    "        [\"Explain quantum computing in simple terms.\"]\n",
    "    ]\n",
    ")\n",
    "\n",
    "interface.launch(share=True)"
   ]
  }
 ],
 "metadata": {
  "accelerator": "GPU",
  "colab": {
   "name": "LLaMA Chatbot",
   "provenance": []
  },
  "kernelspec": {
   "display_name": "Python 3",
   "name": "python3"
  },
  "language_info": {
   "name": "python"
  }
 },
 "nbformat": 4,
 "nbformat_minor": 0
}
