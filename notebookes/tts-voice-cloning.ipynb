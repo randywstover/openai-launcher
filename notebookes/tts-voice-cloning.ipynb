{
 "cells": [
  {
   "cell_type": "markdown",
   "metadata": {},
   "source": [
    "# 🎤 TTS Voice Cloning\n",
    "\n",
    "Clone voices with just a few seconds of audio using text-to-speech technology. This notebook runs in Colab's free tier and requires no API key.\n",
    "\n",
    "## Model Information\n",
    "This notebook uses YourTTS, a state-of-the-art multilingual voice cloning model that offers:\n",
    "\n",
    "- Zero-shot voice cloning from just 3-10 seconds of audio\n",
    "- Support for 40+ languages with natural accents\n",
    "- Emotion and style control\n",
    "- Cross-lingual voice cloning (speak in any language)\n",
    "\n",
    "### Advanced Features\n",
    "- **Voice Similarity Control**: Adjust how closely the output matches the reference voice\n",
    "- **Speaking Rate**: Control the speed of generated speech\n",
    "- **Style Transfer**: Combine multiple reference voices\n",
    "- **Emotion Injection**: Add emotional qualities to the speech\n",
    "\n",
    "## Features\n",
    "- Voice cloning from short audio samples\n",
    "- Support for multiple languages\n",
    "- Real-time audio generation\n",
    "- Adjustable voice parameters\n",
    "\n",
    "## Setup\n",
    "First, let's install the required packages:"
   ]
  },
  {
   "cell_type": "code",
   "execution_count": null,
   "metadata": {},
   "outputs": [],
   "source": [
    "!pip install -q huggingface_hub==0.14.1\n",
    "!pip install -q TTS torch gradio"
   ]
  },
  {
   "cell_type": "markdown",
   "metadata": {},
   "source": [
    "## Import Dependencies"
   ]
  },
  {
   "cell_type": "code",
   "execution_count": null,
   "metadata": {},
   "outputs": [],
   "source": [
    "from TTS.api import TTS\n",
    "import torch\n",
    "import gradio as gr\n",
    "import os"
   ]
  },
  {
   "cell_type": "markdown",
   "metadata": {},
   "source": [
    "## Load Model"
   ]
  },
  {
   "cell_type": "code",
   "execution_count": null,
   "metadata": {},
   "outputs": [],
   "source": [
    "# Initialize TTS with voice cloning model\n",
    "tts = TTS(model_name=\"tts_models/multilingual/multi-dataset/your_tts\", progress_bar=True)\n",
    "\n",
    "# Available languages\n",
    "LANGUAGES = {\n",
    "    \"English\": \"en\",\n",
    "    \"Spanish\": \"es\",\n",
    "    \"French\": \"fr\",\n",
    "    \"German\": \"de\",\n",
    "    \"Italian\": \"it\",\n",
    "    \"Portuguese\": \"pt\",\n",
    "    \"Polish\": \"pl\",\n",
    "    \"Turkish\": \"tr\",\n",
    "    \"Russian\": \"ru\",\n",
    "    \"Dutch\": \"nl\",\n",
    "    \"Czech\": \"cs\",\n",
    "    \"Arabic\": \"ar\",\n",
    "    \"Chinese (Mandarin)\": \"zh-cn\",\n",
    "    \"Hindi\": \"hi\",\n",
    "    \"Japanese\": \"ja\",\n",
    "    \"Korean\": \"ko\"\n",
    "}\n",
    "\n",
    "print(f\"Model loaded on: {'GPU' if torch.cuda.is_available() else 'CPU'}\")"
   ]
  },
  {
   "cell_type": "markdown",
   "metadata": {},
   "source": [
    "## Create Voice Cloning Function"
   ]
  },
  {
   "cell_type": "code",
   "execution_count": null,
   "metadata": {},
   "outputs": [],
   "source": [
    "def clone_voice(audio_file, text, language=\"en\", speaking_rate=1.0, \n",
    "                voice_similarity=0.75, emotion=\"neutral\", style_weight=0.7):\n",
    "    try:\n",
    "        # Generate speech using the reference audio\n",
    "        output_path = \"output.wav\"\n",
    "        \n",
    "        # Apply emotion and style settings\n",
    "        emotion_settings = {\n",
    "            \"neutral\": {\"pitch_scale\": 1.0, \"energy_scale\": 1.0},\n",
    "            \"happy\": {\"pitch_scale\": 1.2, \"energy_scale\": 1.3},\n",
    "            \"sad\": {\"pitch_scale\": 0.9, \"energy_scale\": 0.8},\n",
    "            \"angry\": {\"pitch_scale\": 1.3, \"energy_scale\": 1.5},\n",
    "            \"calm\": {\"pitch_scale\": 0.95, \"energy_scale\": 0.9}\n",
    "        }\n",
    "        \n",
    "        settings = emotion_settings.get(emotion, emotion_settings[\"neutral\"])\n",
    "        \n",
    "        tts.tts_to_file(\n",
    "            text=text,\n",
    "            file_path=output_path,\n",
    "            speaker_wav=audio_file,\n",
    "            language=language,\n",
    "            speaking_rate=speaking_rate,\n",
    "            voice_similarity_weight=voice_similarity,\n",
    "            style_weight=style_weight,\n",
    "            **settings\n",
    "        )\n",
    "        \n",
    "        return output_path\n",
    "    except Exception as e:\n",
    "        print(f\"Error generating audio: {str(e)}\")\n",
    "        return None"
   ]
  },
  {
   "cell_type": "markdown",
   "metadata": {},
   "source": [
    "## Create Gradio Interface"
   ]
  },
  {
   "cell_type": "code",
   "execution_count": null,
   "metadata": {},
   "outputs": [],
   "source": [
    "with gr.Blocks() as interface:\n",
    "    gr.Markdown(\n",
    "        \"\"\"\n",
    "        # TTS Voice Cloning\n",
    "        Clone a voice from a short audio sample and make it say anything in multiple languages.\n",
    "        \n",
    "        ### Tips for best results:\n",
    "        1. Use clear audio samples (minimal background noise)\n",
    "        2. 5-30 seconds of speech is ideal\n",
    "        3. Adjust voice similarity for better matching\n",
    "        4. Try different emotions and speaking rates\n",
    "        \"\"\"\n",
    "    )\n",
    "    \n",
    "    with gr.Row():\n",
    "        with gr.Column(scale=2):\n",
    "            audio_input = gr.Audio(\n",
    "                type=\"filepath\",\n",
    "                label=\"Upload reference audio (5-30 seconds)\"\n",
    "            )\n",
    "            text_input = gr.Textbox(\n",
    "                label=\"Text to speak\",\n",
    "                placeholder=\"Enter the text you want the cloned voice to say...\",\n",
    "                lines=3\n",
    "            )\n",
    "            language = gr.Dropdown(\n",
    "                choices=list(LANGUAGES.keys()),\n",
    "                value=\"English\",\n",
    "                label=\"Language\"\n",
    "            )\n",
    "            \n",
    "            with gr.Accordion(\"Advanced Settings\", open=False):\n",
    "                speaking_rate = gr.Slider(\n",
    "                    minimum=0.5,\n",
    "                    maximum=2.0,\n",
    "                    value=1.0,\n",
    "                    step=0.1,\n",
    "                    label=\"Speaking Rate\",\n",
    "                    info=\"Adjust speech speed (1.0 is normal)\"\n",
    "                )\n",
    "                voice_similarity = gr.Slider(\n",
    "                    minimum=0.0,\n",
    "                    maximum=1.0,\n",
    "                    value=0.75,\n",
    "                    step=0.05,\n",
    "                    label=\"Voice Similarity\",\n",
    "                    info=\"Higher values = closer to reference voice\"\n",
    "                )\n",
    "                emotion = gr.Radio(\n",
    "                    choices=[\"neutral\", \"happy\", \"sad\", \"angry\", \"calm\"],\n",
    "                    value=\"neutral\",\n",
    "                    label=\"Emotion\",\n",
    "                    info=\"Add emotional qualities to the speech\"\n",
    "                )\n",
    "                style_weight = gr.Slider(\n",
    "                    minimum=0.0,\n",
    "                    maximum=1.0,\n",
    "                    value=0.7,\n",
    "                    step=0.1,\n",
    "                    label=\"Style Weight\",\n",
    "                    info=\"Control the influence of speaking style\"\n",
    "                )\n",
    "        \n",
    "        with gr.Column(scale=2):\n",
    "            audio_output = gr.Audio(label=\"Generated Audio\")\n",
    "    \n",
    "    gr.Examples([\n",
    "        [\"sample.wav\", \"Hello, this is a test of the voice cloning system.\", \"English\", 1.0, 0.75, \"neutral\", 0.7],\n",
    "        [\"sample.wav\", \"Bonjour, ceci est un test du système de clonage vocal.\", \"French\", 1.0, 0.75, \"happy\", 0.7],\n",
    "        [\"sample.wav\", \"Hola, esta es una prueba del sistema de clonación de voz.\", \"Spanish\", 1.0, 0.75, \"calm\", 0.7]\n",
    "    ], [audio_input, text_input, language, speaking_rate, voice_similarity, emotion, style_weight])\n",
    "    \n",
    "    inputs = [audio_input, text_input, \n",
    "              lambda x: LANGUAGES[x], # Convert language name to code\n",
    "              speaking_rate, voice_similarity, emotion, style_weight]\n",
    "    \n",
    "    gr.Interface(fn=clone_voice, inputs=inputs, outputs=audio_output)\n",
    "\n",
    "interface.launch(share=True)"
   ]
  }
 ],
 "metadata": {
  "accelerator": "GPU",
  "colab": {
   "name": "TTS Voice Cloning",
   "provenance": []
  },
  "kernelspec": {
   "display_name": "Python 3",
   "name": "python3"
  },
  "language_info": {
   "name": "python"
  }
 },
 "nbformat": 4,
 "nbformat_minor": 0
}
