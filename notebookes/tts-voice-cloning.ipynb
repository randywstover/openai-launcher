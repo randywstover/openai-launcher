{
 "cells": [
  {
   "cell_type": "markdown",
   "metadata": {},
   "source": [
    "# Voice Cloning with Tortoise TTS\n",
    "Upload a voice sample + custom text to clone speech."
   ]
  },
  {
   "cell_type": "code",
   "execution_count": null,
   "metadata": {},
   "outputs": [],
   "source": [
    "!git clone https://github.com/neonbjb/tortoise-tts.git\n",
    "%cd tortoise-tts\n",
    "!pip install -r requirements.txt\n",
    "!python setup.py install"
   ]
  },
  {
   "cell_type": "code",
   "execution_count": null,
   "metadata": {},
   "outputs": [],
   "source": [
    "import os\n",
    "from tortoise.api import TextToSpeech\n",
    "from tortoise.utils.audio import load_voice\n",
    "from google.colab import files\n",
    "from IPython.display import Audio"
   ]
  },
  {
   "cell_type": "code",
   "execution_count": null,
   "metadata": {},
   "outputs": [],
   "source": [
    "# Upload your voice sample\n",
    "print(\"Upload a short .wav file of the voice you want to clone:\")\n",
    "uploaded = files.upload()\n",
    "voice_file = next(iter(uploaded))"
   ]
  },
  {
   "cell_type": "code",
   "execution_count": null,
   "metadata": {},
   "outputs": [],
   "source": [
    "tts = TextToSpeech()\n",
    "voice_samples, conditioning_latents = load_voice(voice_file)\n",
    "\n",
    "prompt = input(\"What should the cloned voice say? \")\n",
    "gen = tts.tts_with_preset(\n",
    "    text=prompt,\n",
    "    voice_samples=voice_samples,\n",
    "    conditioning_latents=conditioning_latents,\n",
    "    preset=\"fast\"\n",
    ")\n",
    "\n",
    "output_path = \"cloned_voice.wav\"\n",
    "gen.save_wav(output_path)\n",
    "Audio(output_path)"
   ]
  }
 ],
 "metadata": {
  "kernelspec": {
   "display_name": "Python 3",
   "language": "python",
   "name": "python3"
  },
  "language_info": {
   "name": "python"
  }
 },
 "nbformat": 4,
 "nbformat_minor": 4
}
