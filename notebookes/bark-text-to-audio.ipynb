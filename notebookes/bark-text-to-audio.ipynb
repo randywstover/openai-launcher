{
 "cells": [
  {
   "cell_type": "markdown",
   "metadata": {},
   "source": [
    "# 🔊 Bark Text-to-Audio Generator\n",
    "\n",
    "Generate realistic audio from text using Suno's Bark model. This notebook runs in Colab's free tier and requires no API key.\n",
    "\n",
    "## Model Information\n",
    "Bark is currently the best open-source option for realistic speech generation, offering:\n",
    "- High-quality, natural-sounding speech synthesis\n",
    "- Multilingual support with consistent quality\n",
    "- Ability to generate music and sound effects\n",
    "- Zero-shot voice cloning capabilities\n",
    "\n",
    "While newer models exist, Bark remains the most reliable and versatile option for Colab users, providing production-quality results without requiring significant computational resources.\n",
    "\n",
    "## Features\n",
    "- Generate natural-sounding speech\n",
    "- Multiple voice presets\n",
    "- Support for sound effects and music\n",
    "- Adjustable generation parameters\n",
    "\n",
    "## Setup\n",
    "First, let's install the required packages:"
   ]
  },
  {
   "cell_type": "code",
   "execution_count": null,
   "metadata": {},
   "source": [
    "!pip install -q git+https://github.com/suno-ai/bark.git\n",
    "!pip install -q gradio"
   ]
  },
  {
   "cell_type": "markdown",
   "metadata": {},
   "source": [
    "## Import Dependencies"
   ]
  },
  {
   "cell_type": "code",
   "execution_count": null,
   "metadata": {},
   "source": [
    "from bark import SAMPLE_RATE, generate_audio, preload_models\n",
    "from scipy.io.wavfile import write as write_wav\n",
    "import gradio as gr\n",
    "import numpy as np\n",
    "import torch\n",
    "import os"
   ]
  },
  {
   "cell_type": "markdown",
   "metadata": {},
   "source": [
    "## Load Models"
   ]
  },
  {
   "cell_type": "code",
   "execution_count": null,
   "metadata": {},
   "source": [
    "# Download and load all models\n",
    "preload_models()\n",
    "\n",
    "print(f\"Models loaded on: {'GPU' if torch.cuda.is_available() else 'CPU'}\")"
   ]
  },
  {
   "cell_type": "markdown",
   "metadata": {},
   "source": [
    "## Define Voice Presets"
   ]
  },
  {
   "cell_type": "code",
   "execution_count": null,
   "metadata": {},
   "source": [
    "VOICE_PRESETS = {\n",
    "    \"Announcer (Male)\": \"v2/en_speaker_6\",\n",
    "    \"Narrator (Female)\": \"v2/en_speaker_9\",\n",
    "    \"Professional (Male)\": \"v2/en_speaker_3\",\n",
    "    \"Casual (Female)\": \"v2/en_speaker_7\",\n",
    "    \"Elder (Male)\": \"v2/en_speaker_5\",\n",
    "    \"Young (Female)\": \"v2/en_speaker_8\",\n",
    "}"
   ]
  },
  {
   "cell_type": "markdown",
   "metadata": {},
   "source": [
    "## Create Generation Function"
   ]
  },
  {
   "cell_type": "code",
   "execution_count": null,
   "metadata": {},
   "source": [
    "def generate_audio_from_text(text, voice_preset, temperature=0.7):\n",
    "    # Generate audio from text\n",
    "    audio_array = generate_audio(\n",
    "        text,\n",
    "        history_prompt=VOICE_PRESETS[voice_preset],\n",
    "        temperature=temperature\n",
    "    )\n",
    "    \n",
    "    # Save audio to temporary file\n",
    "    output_path = \"output.wav\"\n",
    "    write_wav(output_path, SAMPLE_RATE, audio_array)\n",
    "    \n",
    "    return output_path"
   ]
  },
  {
   "cell_type": "markdown",
   "metadata": {},
   "source": [
    "## Create Gradio Interface"
   ]
  },
  {
   "cell_type": "code",
   "execution_count": null,
   "metadata": {},
   "source": [
    "interface = gr.Interface(\n",
    "    fn=generate_audio_from_text,\n",
    "    inputs=[\n",
    "        gr.Textbox(\n",
    "            label=\"Text\",\n",
    "            placeholder=\"Enter the text you want to convert to speech...\",\n",
    "            lines=5\n",
    "        ),\n",
    "        gr.Dropdown(\n",
    "            choices=list(VOICE_PRESETS.keys()),\n",
    "            value=\"Narrator (Female)\",\n",
    "            label=\"Voice Preset\"\n",
    "        ),\n",
    "        gr.Slider(\n",
    "            minimum=0.1,\n",
    "            maximum=1.0,\n",
    "            value=0.7,\n",
    "            step=0.1,\n",
    "            label=\"Temperature\",\n",
    "            info=\"Higher values = more variation\"\n",
    "        )\n",
    "    ],\n",
    "    outputs=gr.Audio(label=\"Generated Audio\"),\n",
    "    title=\"Bark Text-to-Audio Generator\",\n",
    "    description=\"Convert text to natural-sounding speech using Suno's Bark model.\",\n",
    "    examples=[\n",
    "        [\"Welcome to the future of text-to-speech technology. This audio was generated using artificial intelligence.\",\n",
    "         \"Announcer (Male)\",\n",
    "         0.7],\n",
    "        [\"Once upon a time, in a galaxy far, far away, there lived a young adventurer who dreamed of exploring the stars.\",\n",
    "         \"Narrator (Female)\",\n",
    "         0.7],\n",
    "        [\"Breaking news: Scientists have discovered a new species of deep-sea creatures living in the Mariana Trench.\",\n",
    "         \"Professional (Male)\",\n",
    "         0.7]\n",
    "    ]\n",
    ")\n",
    "\n",
    "interface.launch(share=True)"
   ]
  }
 ],
 "metadata": {
  "accelerator": "GPU",
  "colab": {
   "name": "Bark Text-to-Audio",
   "provenance": []
  },
  "kernelspec": {
   "display_name": "Python 3",
   "name": "python3"
  },
  "language_info": {
   "name": "python"
  }
 },
 "nbformat": 4,
 "nbformat_minor": 0
}
