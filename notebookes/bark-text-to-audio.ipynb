{
 "cells": [
  {
   "cell_type": "markdown",
   "metadata": {},
   "source": [
    "# Bark Text-to-Audio Generator\n",
    "Generate speech from text using the Bark model."
   ]
  },
  {
   "cell_type": "code",
   "execution_count": null,
   "metadata": {},
   "outputs": [],
   "source": [
    "!pip install -q git+https://github.com/suno-ai/bark.git\n",
    "!apt install -y ffmpeg"
   ]
  },
  {
   "cell_type": "code",
   "execution_count": null,
   "metadata": {},
   "outputs": [],
   "source": [
    "import os\n",
    "import IPython.display as ipd\n",
    "from bark import SAMPLE_RATE, generate_audio\n",
    "from scipy.io.wavfile import write"
   ]
  },
  {
   "cell_type": "code",
   "execution_count": null,
   "metadata": {},
   "outputs": [],
   "source": [
    "def text_to_speech(prompt):\n",
    "    audio_array = generate_audio(prompt)\n",
    "    write(\"output.wav\", SAMPLE_RATE, audio_array)\n",
    "    return \"output.wav\""
   ]
  },
  {
   "cell_type": "code",
   "execution_count": null,
   "metadata": {},
   "outputs": [],
   "source": [
    "import gradio as gr\n",
    "gr.Interface(\n",
    "    fn=text_to_speech,\n",
    "    inputs=gr.Textbox(label=\"Enter text\"),\n",
    "    outputs=gr.Audio(type=\"filepath\"),\n",
    "    title=\"Bark Text-to-Audio\",\n",
    "    description=\"Enter a sentence and listen to Bark speak it.\"\n",
    ").launch()"
   ]
  }
 ],
 "metadata": {
  "kernelspec": {
   "display_name": "Python 3",
   "language": "python",
   "name": "python3"
  },
  "language_info": {
   "name": "python"
  }
 },
 "nbformat": 4,
 "nbformat_minor": 4
}
